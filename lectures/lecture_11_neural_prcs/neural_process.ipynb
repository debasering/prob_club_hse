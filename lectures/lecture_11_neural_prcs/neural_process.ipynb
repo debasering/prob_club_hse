{
  "cells": [
    {
      "cell_type": "markdown",
      "metadata": {
        "id": "MhjN6wRS_bLQ"
      },
      "source": [
        "Notebook is inspired by https://github.com/EmilienDupont/neural-processes/tree/master."
      ]
    },
    {
      "cell_type": "code",
      "execution_count": null,
      "metadata": {},
      "outputs": [],
      "source": [
        "import os\n",
        "os.environ[\"CUDA_VISIBLE_DEVICES\"] = \"6\""
      ]
    },
    {
      "cell_type": "code",
      "execution_count": 93,
      "metadata": {},
      "outputs": [],
      "source": [
        "import numpy as np\n",
        "import torch\n",
        "from math import pi\n",
        "from PIL import Image\n",
        "from torchvision import datasets, transforms\n",
        "from torch import nn\n",
        "from torch.nn import functional as F\n",
        "from torch.distributions import Normal\n",
        "from random import randint\n",
        "from torch.distributions.kl import kl_divergence\n",
        "import matplotlib.pyplot as plt\n",
        "from torchvision.utils import make_grid\n",
        "from tqdm import tqdm\n",
        "import torchvision\n",
        "from IPython import display\n"
      ]
    },
    {
      "cell_type": "markdown",
      "metadata": {},
      "source": [
        "# Data, preprocessing and utils"
      ]
    },
    {
      "cell_type": "code",
      "execution_count": 100,
      "metadata": {
        "id": "EvmXaC1YKo9q"
      },
      "outputs": [],
      "source": [
        "size = 28\n",
        "num_channels = 1"
      ]
    },
    {
      "cell_type": "code",
      "execution_count": 101,
      "metadata": {
        "colab": {
          "base_uri": "https://localhost:8080/"
        },
        "id": "WoQq3DjiKcFi",
        "outputId": "3291d21a-a65a-443d-c195-57366e70ba57"
      },
      "outputs": [],
      "source": [
        "path_to_data = 'mnist_data'\n",
        "\n",
        "all_transforms = transforms.Compose([\n",
        "    transforms.ToTensor()\n",
        "    ])\n",
        "\n",
        "train_data = datasets.MNIST(path_to_data, train=True, download=True,\n",
        "                                transform=all_transforms)\n",
        "test_data = datasets.MNIST(path_to_data, train=False,\n",
        "                               transform=all_transforms)"
      ]
    },
    {
      "cell_type": "code",
      "execution_count": 102,
      "metadata": {
        "id": "Y2eH2TO8fydx"
      },
      "outputs": [],
      "source": [
        "batch_size = 1024"
      ]
    },
    {
      "cell_type": "code",
      "execution_count": 103,
      "metadata": {
        "id": "8hPqgq2CLNBg"
      },
      "outputs": [],
      "source": [
        "train_loader = torch.utils.data.DataLoader(train_data, batch_size=batch_size, shuffle=True, num_workers=8, pin_memory=True)\n",
        "test_loader = torch.utils.data.DataLoader(test_data, batch_size=batch_size, shuffle=True, num_workers=8, pin_memory=True)"
      ]
    },
    {
      "cell_type": "code",
      "execution_count": 104,
      "metadata": {
        "id": "0R5o9P6sNN7w"
      },
      "outputs": [],
      "source": [
        "def random_context_target_mask(size, num_context, num_extra_target):\n",
        "    measurements = np.random.choice(range(size * size),\n",
        "                                    size=num_context + num_extra_target,\n",
        "                                    replace=False)\n",
        "    context_mask = torch.zeros(size, size).byte()\n",
        "    target_mask = torch.zeros(size, size).byte()\n",
        "    for i, m in enumerate(measurements):\n",
        "        row = int(m / size)\n",
        "        col = m % size\n",
        "        target_mask[row, col] = 1\n",
        "        if i < num_context:\n",
        "            context_mask[row, col] = 1\n",
        "    return context_mask, target_mask\n",
        "\n",
        "\n",
        "def batch_context_target_mask(size, num_context, num_extra_target, batch_size):\n",
        "    context_mask_batch = torch.zeros(batch_size, size, size, dtype=torch.uint8)\n",
        "    target_mask_batch = torch.zeros(batch_size, size, size, dtype=torch.uint8)\n",
        "\n",
        "    for i in range(batch_size):\n",
        "        context_mask, target_mask = random_context_target_mask(size,\n",
        "                                                               num_context,\n",
        "                                                               num_extra_target)\n",
        "        context_mask_batch[i] = context_mask\n",
        "        target_mask_batch[i] = target_mask\n",
        "\n",
        "    return context_mask_batch, target_mask_batch\n",
        "\n",
        "\n",
        "def img_mask_to_np_input(img, mask, normalize=True):\n",
        "    batch_size, num_channels, height, width = img.size()\n",
        "    mask_img_size = mask.unsqueeze(1).repeat(1, num_channels, 1, 1)\n",
        "    num_points = mask[0].nonzero().size(0)\n",
        "    nonzero_idx = mask.nonzero()\n",
        "    x = nonzero_idx[:, 1:].view(batch_size, num_points, 2).float()\n",
        "    y = img[mask_img_size].view(batch_size, num_channels, num_points)\n",
        "    y = y.permute(0, 2, 1)\n",
        "\n",
        "    if normalize:\n",
        "        x = (x - float(height) / 2) / (float(height) / 2)\n",
        "        y -= 0.5\n",
        "\n",
        "    return x, y\n",
        "\n",
        "\n",
        "def xy_to_img(x, y, img_size):\n",
        "    _, height, width = img_size\n",
        "    batch_size, _, _ = x.size()\n",
        "    # Unnormalize x and y\n",
        "    x = x * float(height / 2) + float(height / 2)\n",
        "    x = x.long()\n",
        "    y += 0.5\n",
        "    # Permute y so it matches order expected by image\n",
        "    # (batch_size, num_points, num_channels) -> (batch_size, num_channels, num_points)\n",
        "    y = y.permute(0, 2, 1)\n",
        "    # Initialize empty image\n",
        "    img = torch.zeros((batch_size,) + img_size)\n",
        "    for i in range(batch_size):\n",
        "        img[i, :, x[i, :, 0], x[i, :, 1]] = y[i, :, :]\n",
        "    return img\n",
        "\n",
        "def inpaint(model, img, context_mask, device):\n",
        "    is_training = model.neural_process.training\n",
        "    # For inpainting, use Neural Process in prediction mode\n",
        "    model.neural_process.training = False\n",
        "    target_mask = 1 - context_mask  # All pixels which are not in context\n",
        "    # Add a batch dimension to tensors and move to GPU\n",
        "    img_batch = img.unsqueeze(0).to(device)\n",
        "    context_batch = context_mask.unsqueeze(0).to(device)\n",
        "    target_batch = target_mask.unsqueeze(0).to(device)\n",
        "    p_y_pred = model(img_batch, context_batch, target_batch)\n",
        "    # Transform Neural Process output back to image\n",
        "    x_target, _ = img_mask_to_np_input(img_batch, target_batch)\n",
        "    # Use the mean (i.e. loc) parameter of normal distribution as predictions\n",
        "    # for y_target\n",
        "    img_rec = xy_to_img(x_target.cpu(), p_y_pred.loc.detach().cpu(), img.size())\n",
        "    img_rec = img_rec[0]  # Remove batch dimension\n",
        "    # Add context points back to image\n",
        "    context_mask_img = context_mask.unsqueeze(0).repeat(1, 1, 1)\n",
        "    img_rec[context_mask_img] = img[context_mask_img]\n",
        "    # Reset model to mode it was in before inpainting\n",
        "    model.neural_process.training = is_training\n",
        "    return img_rec"
      ]
    },
    {
      "cell_type": "markdown",
      "metadata": {},
      "source": [
        "# Model"
      ]
    },
    {
      "cell_type": "markdown",
      "metadata": {},
      "source": [
        "In this setting x is coordinated of pixel and y is its intensity. We will model it with Neural Process. Probabilistic model:"
      ]
    },
    {
      "cell_type": "markdown",
      "metadata": {},
      "source": [
        "$$\n",
        "p(z, y_{1:n}|x_{1:n}) = p(z) \\prod_{i=1}^n \n",
        "        \\mathcal{N}(y_i|g_{\\theta}(x_i, z), \\sigma^2)\n",
        "$$"
      ]
    },
    {
      "cell_type": "markdown",
      "metadata": {},
      "source": [
        "\n",
        "The model consist of several parts:\n",
        "\n",
        "Encoder $h$ that takes pairs $(x, y)_i$ and maps them to representation $r_i$\n",
        "\n",
        "Aggregator $a$ that summarizes inputs and is order-invariant. We need a single global representation $r = a(r_1, \\ldots, r_n)$ to parameterize $z \\sim \\mathcal{N}(\\mu(r), \\sigma^2(r)I)$. Note linear complexity of aggregator in case $a(r_1, \\ldots, r_n) = \\sum_{i=1}^n r_i$\n",
        "\n",
        "Conditional decoder $g$ that takes new points $x$ and the sampled latent variable $z$\n"
      ]
    },
    {
      "cell_type": "markdown",
      "metadata": {},
      "source": [
        "<img src=\"/home/plahinal/club/model_graph.jpg\" alt=\"Alternative text\" />"
      ]
    },
    {
      "cell_type": "code",
      "execution_count": 105,
      "metadata": {
        "id": "8cMa2oGMQZb0"
      },
      "outputs": [],
      "source": [
        "class Encoder(nn.Module):\n",
        "    def __init__(self, x_dim, y_dim, h_dim, r_dim):\n",
        "        super(Encoder, self).__init__()\n",
        "\n",
        "        self.x_dim = x_dim\n",
        "        self.y_dim = y_dim\n",
        "        self.h_dim = h_dim\n",
        "        self.r_dim = r_dim\n",
        "        # YOUR CODE GOES HERE: 3 LINEAR LAYERS WITH RELU\n",
        "        layers = [...]\n",
        "\n",
        "        self.input_to_hidden = ...\n",
        "\n",
        "    def forward(self, x, y):\n",
        "        # YOUR CODE GOES HERE\n",
        "        pass\n",
        "\n",
        "\n",
        "class MuSigmaEncoder(nn.Module):\n",
        "    def __init__(self, r_dim, z_dim):\n",
        "        super(MuSigmaEncoder, self).__init__()\n",
        "\n",
        "        self.r_dim = r_dim\n",
        "        self.z_dim = z_dim\n",
        "        \n",
        "        # YOUR CODE GOES HERE - ALL LAYERS ARE LINEAR\n",
        "\n",
        "        self.r_to_hidden = ...\n",
        "        self.hidden_to_mu = ...\n",
        "        self.hidden_to_sigma = ...\n",
        "\n",
        "    def forward(self, r):\n",
        "        # YOUR CODE GOES HERE\n",
        "        return mu, sigma\n",
        "\n",
        "\n",
        "class Decoder(nn.Module):\n",
        "    def __init__(self, x_dim, z_dim, h_dim, y_dim):\n",
        "        super(Decoder, self).__init__()\n",
        "\n",
        "        self.x_dim = x_dim\n",
        "        self.z_dim = z_dim\n",
        "        self.h_dim = h_dim\n",
        "        self.y_dim = y_dim\n",
        "\n",
        "        layers = [nn.Linear(x_dim + z_dim, h_dim),\n",
        "                  nn.ReLU(inplace=True),\n",
        "                  nn.Linear(h_dim, h_dim),\n",
        "                  nn.ReLU(inplace=True),\n",
        "                  nn.Linear(h_dim, h_dim),\n",
        "                  nn.ReLU(inplace=True)]\n",
        "\n",
        "        self.xz_to_hidden = nn.Sequential(*layers)\n",
        "        self.hidden_to_mu = nn.Linear(h_dim, y_dim)\n",
        "        self.hidden_to_sigma = nn.Linear(h_dim, y_dim)\n",
        "\n",
        "    def forward(self, x, z):\n",
        "        batch_size, num_points, _ = x.size()\n",
        "        z = z.unsqueeze(1).repeat(1, num_points, 1)\n",
        "        x_flat = x.view(batch_size * num_points, self.x_dim)\n",
        "        z_flat = z.view(batch_size * num_points, self.z_dim)\n",
        "        input_pairs = torch.cat((x_flat, z_flat), dim=1)\n",
        "        hidden = self.xz_to_hidden(input_pairs)\n",
        "        mu = self.hidden_to_mu(hidden)\n",
        "        pre_sigma = self.hidden_to_sigma(hidden)\n",
        "        mu = mu.view(batch_size, num_points, self.y_dim)\n",
        "        pre_sigma = pre_sigma.view(batch_size, num_points, self.y_dim)\n",
        "        sigma = 0.1 + 0.9 * F.softplus(pre_sigma)\n",
        "        return mu, sigma"
      ]
    },
    {
      "cell_type": "markdown",
      "metadata": {},
      "source": [
        "ELBO:\n",
        "\n",
        "$$\n",
        "\\log p(y_{m+1:n}|x_{1:n}, y_{1:m}) \\geq \n",
        "    \\mathbb{E}_{q(z|x_{1:n}, y_{1:n})} \\bigg[\n",
        "    \\sum_{i=m+1}^n \\log p(y_i|z, x_i) + \n",
        "    \\log \\cfrac{q(z|x_{1:m}, y_{1:m})}{q(z|x_{1:n}, y_{1:n})} \n",
        "    \\bigg]\n",
        "$$"
      ]
    },
    {
      "cell_type": "code",
      "execution_count": 106,
      "metadata": {
        "id": "ZMJYa8QYVUB6"
      },
      "outputs": [],
      "source": [
        "class NeuralProcess(nn.Module):\n",
        "    def __init__(self, x_dim, y_dim, r_dim, z_dim, h_dim):\n",
        "        super(NeuralProcess, self).__init__()\n",
        "        self.x_dim = x_dim\n",
        "        self.y_dim = y_dim\n",
        "        self.r_dim = r_dim\n",
        "        self.z_dim = z_dim\n",
        "        self.h_dim = h_dim\n",
        "\n",
        "        self.xy_to_r = Encoder(x_dim, y_dim, h_dim, r_dim)\n",
        "        self.r_to_mu_sigma = MuSigmaEncoder(r_dim, z_dim)\n",
        "        self.xz_to_y = Decoder(x_dim, z_dim, h_dim, y_dim)\n",
        "\n",
        "    def aggregate(self, r_i):\n",
        "        return torch.mean(r_i, dim=1)\n",
        "\n",
        "    def xy_to_mu_sigma(self, x, y):\n",
        "        batch_size, num_points, _ = x.size()\n",
        "        x_flat = x.view(batch_size * num_points, self.x_dim)\n",
        "        y_flat = y.contiguous().view(batch_size * num_points, self.y_dim)\n",
        "        r_i_flat = self.xy_to_r(x_flat, y_flat)\n",
        "        r_i = r_i_flat.view(batch_size, num_points, self.r_dim)\n",
        "        r = self.aggregate(r_i)\n",
        "        return self.r_to_mu_sigma(r)\n",
        "\n",
        "    def forward(self, x_context, y_context, x_target, y_target=None):\n",
        "        if self.training:\n",
        "            # YOUR CODE GOES HERE\n",
        "            return p_y_pred, q_target, q_context\n",
        "        else:\n",
        "            # YOUR CODE GOES HERE\n",
        "            return p_y_pred\n",
        "\n",
        "\n",
        "class NeuralProcessImg(nn.Module):\n",
        "    def __init__(self, img_size, r_dim, z_dim, h_dim):\n",
        "        super(NeuralProcessImg, self).__init__()\n",
        "        self.img_size = img_size\n",
        "        self.num_channels, self.height, self.width = img_size\n",
        "        self.r_dim = r_dim\n",
        "        self.z_dim = z_dim\n",
        "        self.h_dim = h_dim\n",
        "\n",
        "        self.neural_process = NeuralProcess(x_dim=2, y_dim=self.num_channels,\n",
        "                                            r_dim=r_dim, z_dim=z_dim,\n",
        "                                            h_dim=h_dim)\n",
        "\n",
        "    def forward(self, img, context_mask, target_mask):\n",
        "        x_context, y_context = img_mask_to_np_input(img, context_mask)\n",
        "        x_target, y_target = img_mask_to_np_input(img, target_mask)\n",
        "        return self.neural_process(x_context, y_context, x_target, y_target)"
      ]
    },
    {
      "cell_type": "code",
      "execution_count": 107,
      "metadata": {
        "id": "37w18b7BcHKn"
      },
      "outputs": [],
      "source": [
        "def compute_loss(p_y_pred, y_target, q_target, q_context):\n",
        "      # YOUR CODE GOES HERE\n",
        "      pass"
      ]
    },
    {
      "cell_type": "code",
      "execution_count": 43,
      "metadata": {},
      "outputs": [],
      "source": [
        "device='cuda'"
      ]
    },
    {
      "cell_type": "code",
      "execution_count": 60,
      "metadata": {
        "id": "LVWqSJ2zWHfc"
      },
      "outputs": [],
      "source": [
        "neural_process = NeuralProcessImg([1, 28, 28], 256, 256, 256).to(device)\n",
        "optimizer = torch.optim.Adam(neural_process.parameters(), lr=3e-5)"
      ]
    },
    {
      "cell_type": "code",
      "execution_count": 50,
      "metadata": {
        "id": "0M347NocadZJ"
      },
      "outputs": [],
      "source": [
        "n_epochs = 25\n",
        "step = 0\n",
        "print_freq = 10\n",
        "epoch_loss_history = []"
      ]
    },
    {
      "cell_type": "code",
      "execution_count": null,
      "metadata": {
        "colab": {
          "base_uri": "https://localhost:8080/",
          "height": 1000
        },
        "id": "FfEyTRYrZMbz",
        "outputId": "6b2fd8f6-4cdb-4496-c489-66e6d9f38837"
      },
      "outputs": [],
      "source": [
        "for epoch in range(n_epochs):\n",
        "    epoch_loss = 0.\n",
        "    for i, data in enumerate(tqdm(train_loader)):\n",
        "        optimizer.zero_grad()\n",
        "\n",
        "        num_context = randint(*[3, 200])\n",
        "        num_extra_target = randint(*[0, 200])\n",
        "\n",
        "        img, _ = data\n",
        "        batch_size = img.size(0)\n",
        "        context_mask, target_mask = \\\n",
        "            batch_context_target_mask(size,\n",
        "                                      num_context, num_extra_target,\n",
        "                                      batch_size)\n",
        "\n",
        "        img = img.to(device)\n",
        "        context_mask = context_mask.to(device)\n",
        "        target_mask = target_mask.to(device)\n",
        "\n",
        "        p_y_pred, q_target, q_context = \\\n",
        "                  neural_process(img, context_mask, target_mask)\n",
        "\n",
        "        _, y_target = img_mask_to_np_input(img, target_mask)\n",
        "\n",
        "        loss = compute_loss(p_y_pred, y_target, q_target, q_context)\n",
        "        loss.backward()\n",
        "        optimizer.step()\n",
        "\n",
        "        epoch_loss += loss.item()\n",
        "\n",
        "        step += 1\n",
        "\n",
        "        if step % print_freq == 0:\n",
        "            print(\"iteration {}, loss {:.3f}\".format(step, loss.item()))\n",
        "\n",
        "    print(\"Epoch: {}, Avg_loss: {}\".format(epoch, epoch_loss / len(train_loader)))\n",
        "    epoch_loss_history.append(epoch_loss / len(train_loader))"
      ]
    },
    {
      "cell_type": "code",
      "execution_count": 62,
      "metadata": {},
      "outputs": [
        {
          "data": {
            "text/plain": [
              "<All keys matched successfully>"
            ]
          },
          "execution_count": 62,
          "metadata": {},
          "output_type": "execute_result"
        }
      ],
      "source": [
        "#checkpoint = torch.load('/home/plahinal/club/ckpt/model.pt')\n",
        "#neural_process.load_state_dict(checkpoint)"
      ]
    },
    {
      "cell_type": "code",
      "execution_count": 90,
      "metadata": {
        "colab": {
          "base_uri": "https://localhost:8080/",
          "height": 447
        },
        "id": "HdLB2X2pbs0J",
        "outputId": "e044cb4b-63b3-4585-f2f5-bdf46326d956"
      },
      "outputs": [
        {
          "data": {
            "text/plain": [
              "<matplotlib.image.AxesImage at 0x7fdec8dbd120>"
            ]
          },
          "execution_count": 90,
          "metadata": {},
          "output_type": "execute_result"
        },
        {
          "data": {
            "image/png": "[encoded data removed]",
            "text/plain": [
              "<Figure size 640x480 with 1 Axes>"
            ]
          },
          "metadata": {},
          "output_type": "display_data"
        }
      ],
      "source": [
        "img = test_data[0]\n",
        "\n",
        "context_mask = (torch.Tensor(28, 28).uniform_() > 0.9).byte()\n",
        "\n",
        "occluded_img = img[0] * context_mask.float()\n",
        "plt.imshow(occluded_img.permute(1, 2, 0).numpy())"
      ]
    },
    {
      "cell_type": "code",
      "execution_count": 91,
      "metadata": {
        "colab": {
          "base_uri": "https://localhost:8080/",
          "height": 403
        },
        "id": "JV5FSc_rbp-S",
        "outputId": "5d340f62-ae80-4b08-e857-cfefcc3eafb9"
      },
      "outputs": [
        {
          "name": "stderr",
          "output_type": "stream",
          "text": [
            "/tmp/ipykernel_2989159/2818139484.py:36: UserWarning: indexing with dtype torch.uint8 is now deprecated, please use a dtype torch.bool instead. (Triggered internally at ../aten/src/ATen/native/IndexingUtils.h:27.)\n",
            "  y = img[mask_img_size].view(batch_size, num_channels, num_points)\n",
            "/tmp/ipykernel_2989159/2818139484.py:80: UserWarning: indexing with dtype torch.uint8 is now deprecated, please use a dtype torch.bool instead. (Triggered internally at ../aten/src/ATen/native/IndexingUtils.h:27.)\n",
            "  img_rec[context_mask_img] = img[context_mask_img]\n"
          ]
        },
        {
          "data": {
            "text/plain": [
              "<matplotlib.image.AxesImage at 0x7fdec8c3e110>"
            ]
          },
          "execution_count": 91,
          "metadata": {},
          "output_type": "execute_result"
        },
        {
          "data": {
            "image/png": "[encoded data removed]",
            "text/plain": [
              "<Figure size 640x480 with 1 Axes>"
            ]
          },
          "metadata": {},
          "output_type": "display_data"
        }
      ],
      "source": [
        "num_inpaintings = 8\n",
        "all_inpaintings = torch.zeros(num_inpaintings, 1, 28, 28)\n",
        "\n",
        "for i in range(num_inpaintings):\n",
        "    all_inpaintings[i] = inpaint(neural_process, img[0], context_mask, device)\n",
        "\n",
        "inpainting_grid = make_grid(all_inpaintings, nrow=4, pad_value=1.)\n",
        "grid_as_np = inpainting_grid.permute(1, 2, 0).numpy()\n",
        "plt.imshow(np.clip(grid_as_np, 0, 1))"
      ]
    }
  ],
  "metadata": {
    "accelerator": "GPU",
    "colab": {
      "gpuType": "T4",
      "provenance": []
    },
    "kernelspec": {
      "display_name": "Python 3",
      "name": "python3"
    },
    "language_info": {
      "codemirror_mode": {
        "name": "ipython",
        "version": 3
      },
      "file_extension": ".py",
      "mimetype": "text/x-python",
      "name": "python",
      "nbconvert_exporter": "python",
      "pygments_lexer": "ipython3",
      "version": "3.10.12"
    }
  },
  "nbformat": 4,
  "nbformat_minor": 0
}
